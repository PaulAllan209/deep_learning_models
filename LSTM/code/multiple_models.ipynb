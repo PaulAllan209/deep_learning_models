{
 "cells": [
  {
   "cell_type": "code",
   "execution_count": null,
   "metadata": {},
   "outputs": [],
   "source": [
    "# Python version used 3.8.10\n",
    "\n",
    "import numpy as np # We need numpy to handle matrices of numbers and data\n",
    "import tensorflow as tf # Tensorflow is the library that we will be using for simulating an LSTM model\n",
    "import pandas as pd # Pandas library are for reading .csv files or other excel files\n",
    "from matplotlib import pyplot as plt # Matplotlib for visualizing data or plotting it\n",
    "from sklearn.preprocessing import MinMaxScaler # This is for scaling the data "
   ]
  },
  {
   "cell_type": "code",
   "execution_count": null,
   "metadata": {},
   "outputs": [],
   "source": [
    "# I think this code is probably not going to work because each station needs to have different models. or I might be wrong lol\n",
    "\n",
    "# Input data should be divided into different .csv files according to the train station\n",
    "\n",
    "# Make a class that saves, loads, and train multiple models depending on the current location of the train.\n",
    "# class needs a parameter that has the list of all the locations in a train station\n",
    "# save location parameter\n",
    "\n",
    "# Init method\n",
    "# inside the init method can be a list of the locations and save them in a variable according to the index\n",
    "# Make sure the station names are a string type so that I can probably store them in a dictionary\n",
    "# Dictionary that contains the string train station as keys and a list of index, sequential model as the values. \n",
    "# Currently loaded model - meaning the whole sequential model of the locations\n",
    "# Currently loaded station model\n",
    "\n",
    "\n",
    "# make_model method\n",
    "# for loops to the list of locations and save a sequential model in a ordered list\n",
    "# Initializes the sequential LSTM model\n",
    "# Take note the it might be important to not train the models first because each model has different inputs depending on the station\n",
    "\n",
    "\n",
    "# Automatically create folders on the save location\n",
    "# callbacks\n",
    "\n",
    "# load_model method that loads the trained model of a whole sequential of all the stations\n",
    "\n",
    "# save_model method\n",
    "# saves the models in different folders that correspon to their station name\n",
    "\n",
    "# make_excel method\n",
    "# might not be important so I will leave this be\n",
    "\n",
    "# train_model\n",
    "# .csv file of the input data\n",
    "# station_model parameter to determing which station model to train\n",
    "\n",
    "# data_preprocess\n",
    "# .csv file as needed input\n",
    "# this method can be called to process the data according to the desired\n",
    "# time steps and feautures\n",
    "# returns the numpy data of the preprocessed trainX and trainY"
   ]
  },
  {
   "cell_type": "code",
   "execution_count": null,
   "metadata": {},
   "outputs": [],
   "source": [
    "class TrainPassengerFlowPrediction:\n",
    "    def __init__(self, locations_list) -> None:\n",
    "        self.locations = locations_list\n",
    "        self.station_models = {}\n",
    "        self.loaded_model = None\n",
    "        self.loaded_station_model = None\n",
    "        \n",
    "    def make_model(self):\n",
    "        pass"
   ]
  }
 ],
 "metadata": {
  "kernelspec": {
   "display_name": "Python 3.10.4 64-bit",
   "language": "python",
   "name": "python3"
  },
  "language_info": {
   "name": "python",
   "version": "3.10.4"
  },
  "orig_nbformat": 4,
  "vscode": {
   "interpreter": {
    "hash": "26de051ba29f2982a8de78e945f0abaf191376122a1563185a90213a26c5da77"
   }
  }
 },
 "nbformat": 4,
 "nbformat_minor": 2
}
