{
 "cells": [
  {
   "cell_type": "markdown",
   "metadata": {},
   "source": [
    "<h1><b>Dependencies</b></h1>\n",
    "\n",
    "This code is based on the tutorial by DigitalSreeni.<br>\n",
    "Link of Tutorial: https://www.youtube.com/watch?v=97bZKO6cJfg&t=728s"
   ]
  },
  {
   "cell_type": "code",
   "execution_count": 60,
   "metadata": {},
   "outputs": [],
   "source": [
    "# Python version used 3.8.10\n",
    "\n",
    "import numpy as np # We need numpy to handle matrices of numbers and data\n",
    "import tensorflow as tf # Tensorflow is the library that we will be using for simulating an LSTM model\n",
    "import pandas as pd # Pandas library are for reading .csv files or other excel files\n",
    "from matplotlib import pyplot as plt # Matplotlib for visualizing data or plotting it\n",
    "from sklearn.preprocessing import MinMaxScaler # This is for scaling the data "
   ]
  },
  {
   "cell_type": "code",
   "execution_count": 61,
   "metadata": {},
   "outputs": [],
   "source": [
    "# Inputs\n",
    "# Passenger flow\n",
    "# Speed of Train\n",
    "\n",
    "# Output \n",
    "# Passenger flow\n",
    "\n",
    "# num of timesteps to look back = 10"
   ]
  },
  {
   "cell_type": "code",
   "execution_count": 62,
   "metadata": {},
   "outputs": [],
   "source": [
    "# This code reads the csv file and saves it in a variable as a pandas data frame\n",
    "# The passenger data is from https://www.kaggle.com/datasets/rakannimer/air-passengers and just invented a train_speed column to see if it is possible to add more variables in \n",
    "# the prediction \n",
    "df = pd.read_csv('../datas/train_passengers_copy.csv')"
   ]
  },
  {
   "cell_type": "code",
   "execution_count": 63,
   "metadata": {},
   "outputs": [],
   "source": [
    "#Variables for training\n",
    "cols = list(df)[1:3] # This picks the passengers and train speed. Change this if you want to add more features.\n",
    "df_for_training = df[cols].astype(float) # Makes it a float so that we do not lose values due to rounding errors."
   ]
  },
  {
   "cell_type": "code",
   "execution_count": 64,
   "metadata": {},
   "outputs": [
    {
     "data": {
      "text/html": [
       "<div>\n",
       "<style scoped>\n",
       "    .dataframe tbody tr th:only-of-type {\n",
       "        vertical-align: middle;\n",
       "    }\n",
       "\n",
       "    .dataframe tbody tr th {\n",
       "        vertical-align: top;\n",
       "    }\n",
       "\n",
       "    .dataframe thead th {\n",
       "        text-align: right;\n",
       "    }\n",
       "</style>\n",
       "<table border=\"1\" class=\"dataframe\">\n",
       "  <thead>\n",
       "    <tr style=\"text-align: right;\">\n",
       "      <th></th>\n",
       "      <th>#Passengers</th>\n",
       "      <th>train_speed</th>\n",
       "    </tr>\n",
       "  </thead>\n",
       "  <tbody>\n",
       "    <tr>\n",
       "      <th>0</th>\n",
       "      <td>112.0</td>\n",
       "      <td>68.0</td>\n",
       "    </tr>\n",
       "    <tr>\n",
       "      <th>1</th>\n",
       "      <td>118.0</td>\n",
       "      <td>68.0</td>\n",
       "    </tr>\n",
       "    <tr>\n",
       "      <th>2</th>\n",
       "      <td>132.0</td>\n",
       "      <td>66.0</td>\n",
       "    </tr>\n",
       "    <tr>\n",
       "      <th>3</th>\n",
       "      <td>129.0</td>\n",
       "      <td>66.0</td>\n",
       "    </tr>\n",
       "    <tr>\n",
       "      <th>4</th>\n",
       "      <td>121.0</td>\n",
       "      <td>64.0</td>\n",
       "    </tr>\n",
       "    <tr>\n",
       "      <th>...</th>\n",
       "      <td>...</td>\n",
       "      <td>...</td>\n",
       "    </tr>\n",
       "    <tr>\n",
       "      <th>139</th>\n",
       "      <td>606.0</td>\n",
       "      <td>69.0</td>\n",
       "    </tr>\n",
       "    <tr>\n",
       "      <th>140</th>\n",
       "      <td>508.0</td>\n",
       "      <td>68.0</td>\n",
       "    </tr>\n",
       "    <tr>\n",
       "      <th>141</th>\n",
       "      <td>461.0</td>\n",
       "      <td>69.0</td>\n",
       "    </tr>\n",
       "    <tr>\n",
       "      <th>142</th>\n",
       "      <td>390.0</td>\n",
       "      <td>66.0</td>\n",
       "    </tr>\n",
       "    <tr>\n",
       "      <th>143</th>\n",
       "      <td>432.0</td>\n",
       "      <td>60.0</td>\n",
       "    </tr>\n",
       "  </tbody>\n",
       "</table>\n",
       "<p>144 rows × 2 columns</p>\n",
       "</div>"
      ],
      "text/plain": [
       "     #Passengers  train_speed\n",
       "0          112.0         68.0\n",
       "1          118.0         68.0\n",
       "2          132.0         66.0\n",
       "3          129.0         66.0\n",
       "4          121.0         64.0\n",
       "..           ...          ...\n",
       "139        606.0         69.0\n",
       "140        508.0         68.0\n",
       "141        461.0         69.0\n",
       "142        390.0         66.0\n",
       "143        432.0         60.0\n",
       "\n",
       "[144 rows x 2 columns]"
      ]
     },
     "execution_count": 64,
     "metadata": {},
     "output_type": "execute_result"
    }
   ],
   "source": [
    "df_for_training"
   ]
  },
  {
   "cell_type": "code",
   "execution_count": 65,
   "metadata": {},
   "outputs": [
    {
     "data": {
      "text/plain": [
       "<AxesSubplot:>"
      ]
     },
     "execution_count": 65,
     "metadata": {},
     "output_type": "execute_result"
    },
    {
     "data": {
      "image/png": "[encoded data removed]",
      "text/plain": [
       "<Figure size 640x480 with 1 Axes>"
      ]
     },
     "metadata": {},
     "output_type": "display_data"
    }
   ],
   "source": [
    "# Plotting the data to properly visualize it\n",
    "df_for_training.plot.line()"
   ]
  },
  {
   "cell_type": "code",
   "execution_count": 66,
   "metadata": {},
   "outputs": [],
   "source": [
    "#LSTM uses sigmoid and tanh that are sensitive to magnitude so values need to be normalized\n",
    "# normalize the dataset\n",
    "scaler = MinMaxScaler()\n",
    "scaler.fit(df_for_training)\n",
    "df_for_training_scaled = scaler.transform(df_for_training)"
   ]
  },
  {
   "cell_type": "code",
   "execution_count": 67,
   "metadata": {},
   "outputs": [],
   "source": [
    "#As required for LSTM networks, we require to reshape an input data into n_samples x timesteps x n_features. \n",
    "#In this example, the n_features is 5. We will make timesteps = 14 (past days data used for training). \n",
    "\n",
    "#Empty lists to be populated using formatted training data\n",
    "trainX = []\n",
    "trainY = []\n",
    "\n",
    "n_future = 1   # Number of days we want to look into the future based on the past days.\n",
    "n_past = 5  # Number of past days we want to use to predict the future."
   ]
  },
  {
   "cell_type": "code",
   "execution_count": 68,
   "metadata": {},
   "outputs": [
    {
     "name": "stdout",
     "output_type": "stream",
     "text": [
      "trainX shape == (139, 5, 2).\n",
      "trainY shape == (139, 1).\n"
     ]
    }
   ],
   "source": [
    "#Reformat input data into a shape: (n_samples x timesteps x n_features)\n",
    "for i in range(n_past, len(df_for_training_scaled) - n_future +1):\n",
    "    trainX.append(df_for_training_scaled[i - n_past:i, 0:df_for_training.shape[1]])\n",
    "    trainY.append(df_for_training_scaled[i + n_future - 1:i + n_future, 0])\n",
    "\n",
    "trainX, trainY = np.array(trainX), np.array(trainY)\n",
    "\n",
    "print('trainX shape == {}.'.format(trainX.shape))\n",
    "print('trainY shape == {}.'.format(trainY.shape))"
   ]
  },
  {
   "cell_type": "code",
   "execution_count": 69,
   "metadata": {},
   "outputs": [
    {
     "name": "stdout",
     "output_type": "stream",
     "text": [
      "Model: \"sequential_3\"\n",
      "_________________________________________________________________\n",
      " Layer (type)                Output Shape              Param #   \n",
      "=================================================================\n",
      " lstm_27 (LSTM)              (None, 5, 64)             17152     \n",
      "                                                                 \n",
      " lstm_28 (LSTM)              (None, 5, 64)             33024     \n",
      "                                                                 \n",
      " lstm_29 (LSTM)              (None, 64)                33024     \n",
      "                                                                 \n",
      " dense_3 (Dense)             (None, 1)                 65        \n",
      "                                                                 \n",
      "=================================================================\n",
      "Total params: 83,265\n",
      "Trainable params: 83,265\n",
      "Non-trainable params: 0\n",
      "_________________________________________________________________\n"
     ]
    }
   ],
   "source": [
    "# Making the actual LSTM model itself\n",
    "# The input shape argument means (n_past, n_features)\n",
    "# n_features = train passenger flow, train speed etc.\n",
    "# return_sequences = False because we do not want to output the hidden state of the LSTM each time step. We only want it to output the hidden state of the last time step.\n",
    "\n",
    "# The number of LSTM layers to add\n",
    "n_of_lstm_middle_layers = 1\n",
    "\n",
    "model = tf.keras.Sequential() # Setting up Sequential class because the LSTM layer will be placed in order inside the Sequential class\n",
    "model.add(tf.keras.layers.LSTM(64, input_shape=(trainX.shape[1], trainX.shape[2]), return_sequences=True))\n",
    "\n",
    "# Adding of middle layers in LSTM. More layers does not mean more accuracy because this depends on type of data needed to be predicted.\n",
    "for i in range(n_of_lstm_middle_layers):\n",
    "    model.add(tf.keras.layers.LSTM(64, return_sequences=True))\n",
    "    \n",
    "\n",
    "model.add(tf.keras.layers.LSTM(64, return_sequences=False)) # Adding of LSTM layer and specifying the hidden state and cell state size which is the first integer argument\n",
    "model.add(tf.keras.layers.Dense(1)) # The very last layer is 1 neuron which takes the hidden state of the last time step and outputs it into just one number\n",
    "model.compile(optimizer='adam', loss='mse') # Specifying the optimizer for backpropagation and the calculation of loss which is mean squared error\n",
    "model.summary() # This just displays the layers and number of parameters in your Sequential model"
   ]
  },
  {
   "cell_type": "code",
   "execution_count": 70,
   "metadata": {},
   "outputs": [
    {
     "name": "stdout",
     "output_type": "stream",
     "text": [
      "Epoch 1/100\n",
      "8/8 [==============================] - 9s 292ms/step - loss: 0.0906 - val_loss: 0.2031\n",
      "Epoch 2/100\n",
      "8/8 [==============================] - 0s 12ms/step - loss: 0.0362 - val_loss: 0.0490\n",
      "Epoch 3/100\n",
      "8/8 [==============================] - 0s 25ms/step - loss: 0.0270 - val_loss: 0.1070\n",
      "Epoch 4/100\n",
      "8/8 [==============================] - 0s 12ms/step - loss: 0.0233 - val_loss: 0.0430\n",
      "Epoch 5/100\n",
      "8/8 [==============================] - 0s 16ms/step - loss: 0.0144 - val_loss: 0.0458\n",
      "Epoch 6/100\n",
      "8/8 [==============================] - 0s 14ms/step - loss: 0.0128 - val_loss: 0.0602\n",
      "Epoch 7/100\n",
      "8/8 [==============================] - 0s 13ms/step - loss: 0.0132 - val_loss: 0.0483\n",
      "Epoch 8/100\n",
      "8/8 [==============================] - 0s 14ms/step - loss: 0.0123 - val_loss: 0.0460\n",
      "Epoch 9/100\n",
      "8/8 [==============================] - 0s 21ms/step - loss: 0.0120 - val_loss: 0.0445\n",
      "Epoch 10/100\n",
      "8/8 [==============================] - 0s 16ms/step - loss: 0.0127 - val_loss: 0.0459\n",
      "Epoch 11/100\n",
      "8/8 [==============================] - 0s 16ms/step - loss: 0.0132 - val_loss: 0.0441\n",
      "Epoch 12/100\n",
      "8/8 [==============================] - 0s 21ms/step - loss: 0.0123 - val_loss: 0.0458\n",
      "Epoch 13/100\n",
      "8/8 [==============================] - 0s 13ms/step - loss: 0.0121 - val_loss: 0.0435\n",
      "Epoch 14/100\n",
      "8/8 [==============================] - 0s 11ms/step - loss: 0.0119 - val_loss: 0.0431\n",
      "Epoch 15/100\n",
      "8/8 [==============================] - 0s 11ms/step - loss: 0.0128 - val_loss: 0.0422\n",
      "Epoch 16/100\n",
      "8/8 [==============================] - 0s 10ms/step - loss: 0.0122 - val_loss: 0.0419\n",
      "Epoch 17/100\n",
      "8/8 [==============================] - 0s 11ms/step - loss: 0.0116 - val_loss: 0.0408\n",
      "Epoch 18/100\n",
      "8/8 [==============================] - 0s 15ms/step - loss: 0.0115 - val_loss: 0.0399\n",
      "Epoch 19/100\n",
      "8/8 [==============================] - 0s 31ms/step - loss: 0.0118 - val_loss: 0.0401\n",
      "Epoch 20/100\n",
      "8/8 [==============================] - 0s 17ms/step - loss: 0.0117 - val_loss: 0.0392\n",
      "Epoch 21/100\n",
      "8/8 [==============================] - 0s 22ms/step - loss: 0.0122 - val_loss: 0.0394\n",
      "Epoch 22/100\n",
      "8/8 [==============================] - 0s 15ms/step - loss: 0.0135 - val_loss: 0.0379\n",
      "Epoch 23/100\n",
      "8/8 [==============================] - 0s 13ms/step - loss: 0.0126 - val_loss: 0.0381\n",
      "Epoch 24/100\n",
      "8/8 [==============================] - 0s 12ms/step - loss: 0.0113 - val_loss: 0.0383\n",
      "Epoch 25/100\n",
      "8/8 [==============================] - 0s 11ms/step - loss: 0.0108 - val_loss: 0.0370\n",
      "Epoch 26/100\n",
      "8/8 [==============================] - 0s 11ms/step - loss: 0.0109 - val_loss: 0.0371\n",
      "Epoch 27/100\n",
      "8/8 [==============================] - 0s 14ms/step - loss: 0.0108 - val_loss: 0.0373\n",
      "Epoch 28/100\n",
      "8/8 [==============================] - 0s 14ms/step - loss: 0.0118 - val_loss: 0.0378\n",
      "Epoch 29/100\n",
      "8/8 [==============================] - 0s 12ms/step - loss: 0.0112 - val_loss: 0.0361\n",
      "Epoch 30/100\n",
      "8/8 [==============================] - 0s 11ms/step - loss: 0.0107 - val_loss: 0.0363\n",
      "Epoch 31/100\n",
      "8/8 [==============================] - 0s 13ms/step - loss: 0.0105 - val_loss: 0.0354\n",
      "Epoch 32/100\n",
      "8/8 [==============================] - 0s 17ms/step - loss: 0.0110 - val_loss: 0.0354\n",
      "Epoch 33/100\n",
      "8/8 [==============================] - 0s 11ms/step - loss: 0.0122 - val_loss: 0.0356\n",
      "Epoch 34/100\n",
      "8/8 [==============================] - 0s 13ms/step - loss: 0.0139 - val_loss: 0.0364\n",
      "Epoch 35/100\n",
      "8/8 [==============================] - 0s 17ms/step - loss: 0.0130 - val_loss: 0.0365\n",
      "Epoch 36/100\n",
      "8/8 [==============================] - 0s 12ms/step - loss: 0.0123 - val_loss: 0.0353\n",
      "Epoch 37/100\n",
      "8/8 [==============================] - 0s 14ms/step - loss: 0.0113 - val_loss: 0.0334\n",
      "Epoch 38/100\n",
      "8/8 [==============================] - 0s 10ms/step - loss: 0.0104 - val_loss: 0.0340\n",
      "Epoch 39/100\n",
      "8/8 [==============================] - 0s 12ms/step - loss: 0.0107 - val_loss: 0.0328\n",
      "Epoch 40/100\n",
      "8/8 [==============================] - 0s 12ms/step - loss: 0.0100 - val_loss: 0.0349\n",
      "Epoch 41/100\n",
      "8/8 [==============================] - 0s 12ms/step - loss: 0.0102 - val_loss: 0.0327\n",
      "Epoch 42/100\n",
      "8/8 [==============================] - 0s 11ms/step - loss: 0.0099 - val_loss: 0.0317\n",
      "Epoch 43/100\n",
      "8/8 [==============================] - 0s 15ms/step - loss: 0.0097 - val_loss: 0.0318\n",
      "Epoch 44/100\n",
      "8/8 [==============================] - 0s 13ms/step - loss: 0.0094 - val_loss: 0.0324\n",
      "Epoch 45/100\n",
      "8/8 [==============================] - 0s 12ms/step - loss: 0.0095 - val_loss: 0.0304\n",
      "Epoch 46/100\n",
      "8/8 [==============================] - 0s 16ms/step - loss: 0.0093 - val_loss: 0.0306\n",
      "Epoch 47/100\n",
      "8/8 [==============================] - 0s 14ms/step - loss: 0.0094 - val_loss: 0.0299\n",
      "Epoch 48/100\n",
      "8/8 [==============================] - 0s 16ms/step - loss: 0.0092 - val_loss: 0.0309\n",
      "Epoch 49/100\n",
      "8/8 [==============================] - 0s 12ms/step - loss: 0.0090 - val_loss: 0.0291\n",
      "Epoch 50/100\n",
      "8/8 [==============================] - 0s 10ms/step - loss: 0.0092 - val_loss: 0.0314\n",
      "Epoch 51/100\n",
      "8/8 [==============================] - 0s 11ms/step - loss: 0.0095 - val_loss: 0.0259\n",
      "Epoch 52/100\n",
      "8/8 [==============================] - 0s 11ms/step - loss: 0.0091 - val_loss: 0.0260\n",
      "Epoch 53/100\n",
      "8/8 [==============================] - 0s 16ms/step - loss: 0.0091 - val_loss: 0.0318\n",
      "Epoch 54/100\n",
      "8/8 [==============================] - 0s 25ms/step - loss: 0.0080 - val_loss: 0.0217\n",
      "Epoch 55/100\n",
      "8/8 [==============================] - 0s 15ms/step - loss: 0.0079 - val_loss: 0.0325\n",
      "Epoch 56/100\n",
      "8/8 [==============================] - 0s 10ms/step - loss: 0.0079 - val_loss: 0.0235\n",
      "Epoch 57/100\n",
      "8/8 [==============================] - 0s 12ms/step - loss: 0.0071 - val_loss: 0.0253\n",
      "Epoch 58/100\n",
      "8/8 [==============================] - 0s 13ms/step - loss: 0.0071 - val_loss: 0.0248\n",
      "Epoch 59/100\n",
      "8/8 [==============================] - 0s 10ms/step - loss: 0.0065 - val_loss: 0.0207\n",
      "Epoch 60/100\n",
      "8/8 [==============================] - 0s 12ms/step - loss: 0.0068 - val_loss: 0.0216\n",
      "Epoch 61/100\n",
      "8/8 [==============================] - 0s 19ms/step - loss: 0.0065 - val_loss: 0.0293\n",
      "Epoch 62/100\n",
      "8/8 [==============================] - 0s 17ms/step - loss: 0.0066 - val_loss: 0.0209\n",
      "Epoch 63/100\n",
      "8/8 [==============================] - 0s 11ms/step - loss: 0.0070 - val_loss: 0.0212\n",
      "Epoch 64/100\n",
      "8/8 [==============================] - 0s 11ms/step - loss: 0.0069 - val_loss: 0.0434\n",
      "Epoch 65/100\n",
      "8/8 [==============================] - 0s 21ms/step - loss: 0.0076 - val_loss: 0.0128\n",
      "Epoch 66/100\n",
      "8/8 [==============================] - 0s 13ms/step - loss: 0.0055 - val_loss: 0.0338\n",
      "Epoch 67/100\n",
      "8/8 [==============================] - 0s 13ms/step - loss: 0.0068 - val_loss: 0.0214\n",
      "Epoch 68/100\n",
      "8/8 [==============================] - 0s 10ms/step - loss: 0.0057 - val_loss: 0.0212\n",
      "Epoch 69/100\n",
      "8/8 [==============================] - 0s 11ms/step - loss: 0.0057 - val_loss: 0.0329\n",
      "Epoch 70/100\n",
      "8/8 [==============================] - 0s 11ms/step - loss: 0.0060 - val_loss: 0.0162\n",
      "Epoch 71/100\n",
      "8/8 [==============================] - 0s 11ms/step - loss: 0.0052 - val_loss: 0.0293\n",
      "Epoch 72/100\n",
      "8/8 [==============================] - 0s 12ms/step - loss: 0.0051 - val_loss: 0.0190\n",
      "Epoch 73/100\n",
      "8/8 [==============================] - 0s 10ms/step - loss: 0.0049 - val_loss: 0.0254\n",
      "Epoch 74/100\n",
      "8/8 [==============================] - 0s 10ms/step - loss: 0.0048 - val_loss: 0.0230\n",
      "Epoch 75/100\n",
      "8/8 [==============================] - 0s 11ms/step - loss: 0.0051 - val_loss: 0.0178\n",
      "Epoch 76/100\n",
      "8/8 [==============================] - 0s 11ms/step - loss: 0.0049 - val_loss: 0.0162\n",
      "Epoch 77/100\n",
      "8/8 [==============================] - 0s 20ms/step - loss: 0.0047 - val_loss: 0.0341\n",
      "Epoch 78/100\n",
      "8/8 [==============================] - 0s 23ms/step - loss: 0.0049 - val_loss: 0.0097\n",
      "Epoch 79/100\n",
      "8/8 [==============================] - 0s 21ms/step - loss: 0.0053 - val_loss: 0.0336\n",
      "Epoch 80/100\n",
      "8/8 [==============================] - 0s 15ms/step - loss: 0.0051 - val_loss: 0.0165\n",
      "Epoch 81/100\n",
      "8/8 [==============================] - 0s 16ms/step - loss: 0.0041 - val_loss: 0.0148\n",
      "Epoch 82/100\n",
      "8/8 [==============================] - 0s 12ms/step - loss: 0.0042 - val_loss: 0.0138\n",
      "Epoch 83/100\n",
      "8/8 [==============================] - 0s 14ms/step - loss: 0.0041 - val_loss: 0.0105\n",
      "Epoch 84/100\n",
      "8/8 [==============================] - 0s 34ms/step - loss: 0.0043 - val_loss: 0.0253\n",
      "Epoch 85/100\n",
      "8/8 [==============================] - 0s 18ms/step - loss: 0.0038 - val_loss: 0.0086\n",
      "Epoch 86/100\n",
      "8/8 [==============================] - 0s 13ms/step - loss: 0.0035 - val_loss: 0.0228\n",
      "Epoch 87/100\n",
      "8/8 [==============================] - 0s 15ms/step - loss: 0.0038 - val_loss: 0.0108\n",
      "Epoch 88/100\n",
      "8/8 [==============================] - 0s 13ms/step - loss: 0.0033 - val_loss: 0.0151\n",
      "Epoch 89/100\n",
      "8/8 [==============================] - 0s 13ms/step - loss: 0.0033 - val_loss: 0.0088\n",
      "Epoch 90/100\n",
      "8/8 [==============================] - 0s 10ms/step - loss: 0.0034 - val_loss: 0.0108\n",
      "Epoch 91/100\n",
      "8/8 [==============================] - 0s 11ms/step - loss: 0.0031 - val_loss: 0.0098\n",
      "Epoch 92/100\n",
      "8/8 [==============================] - 0s 14ms/step - loss: 0.0037 - val_loss: 0.0107\n",
      "Epoch 93/100\n",
      "8/8 [==============================] - 0s 14ms/step - loss: 0.0041 - val_loss: 0.0133\n",
      "Epoch 94/100\n",
      "8/8 [==============================] - 0s 39ms/step - loss: 0.0031 - val_loss: 0.0134\n",
      "Epoch 95/100\n",
      "8/8 [==============================] - 0s 17ms/step - loss: 0.0031 - val_loss: 0.0108\n",
      "Epoch 96/100\n",
      "8/8 [==============================] - 0s 14ms/step - loss: 0.0035 - val_loss: 0.0106\n",
      "Epoch 97/100\n",
      "8/8 [==============================] - 0s 12ms/step - loss: 0.0029 - val_loss: 0.0125\n",
      "Epoch 98/100\n",
      "8/8 [==============================] - 0s 26ms/step - loss: 0.0028 - val_loss: 0.0133\n",
      "Epoch 99/100\n",
      "8/8 [==============================] - 0s 17ms/step - loss: 0.0028 - val_loss: 0.0111\n",
      "Epoch 100/100\n",
      "8/8 [==============================] - 0s 11ms/step - loss: 0.0029 - val_loss: 0.0172\n"
     ]
    },
    {
     "data": {
      "text/plain": [
       "<keras.callbacks.History at 0x22d20fce7c0>"
      ]
     },
     "execution_count": 70,
     "metadata": {},
     "output_type": "execute_result"
    }
   ],
   "source": [
    "model.fit(trainX, trainY, epochs=100, batch_size=16, validation_split=0.1, verbose=1) # Begin training the model"
   ]
  },
  {
   "cell_type": "code",
   "execution_count": 71,
   "metadata": {},
   "outputs": [
    {
     "name": "stdout",
     "output_type": "stream",
     "text": [
      "5/5 [==============================] - 2s 3ms/step\n"
     ]
    }
   ],
   "source": [
    "# Testing the model by using the train data to predict passenger flow\n",
    "prediction = model.predict(trainX)\n",
    "\n",
    "# The reason for this code is because we need to inverse transform the output values using the scaler object.\n",
    "# If we did not do this the inverse_transform function will throw an error.\n",
    "# This just duplicates the column of the output so that the size of the prediction_copies matches the size of the original input data\n",
    "# which is two columns passenger flow and train speed.\n",
    "prediction_copies = np.repeat(prediction, df_for_training.shape[1], axis=-1) \n",
    "\n",
    "# Inverse transforms the output values\n",
    "y_pred_future = scaler.inverse_transform(prediction_copies)[:,0]"
   ]
  },
  {
   "cell_type": "code",
   "execution_count": 72,
   "metadata": {},
   "outputs": [],
   "source": [
    "# We need to adjust the predicted values based on the n_past variable.\n",
    "array_adjuster = np.empty((1,n_past - 1))\n",
    "array_adjuster[:] = np.nan\n",
    "\n",
    "y_pred_future = np.append(array_adjuster, y_pred_future)\n"
   ]
  },
  {
   "cell_type": "code",
   "execution_count": 73,
   "metadata": {},
   "outputs": [
    {
     "data": {
      "text/plain": [
       "[<matplotlib.lines.Line2D at 0x22d29bda220>]"
      ]
     },
     "execution_count": 73,
     "metadata": {},
     "output_type": "execute_result"
    },
    {
     "data": {
      "image/png": "[encoded data removed]",
      "text/plain": [
       "<Figure size 640x480 with 1 Axes>"
      ]
     },
     "metadata": {},
     "output_type": "display_data"
    }
   ],
   "source": [
    "# Plotting the predicted values to see the difference between the actual values\n",
    "plt.plot(df_for_training[\"#Passengers\"])\n",
    "plt.plot(y_pred_future)"
   ]
  },
  {
   "cell_type": "code",
   "execution_count": 74,
   "metadata": {},
   "outputs": [],
   "source": [
    "# This code saves the whole trained model as a bunch of files in a folder\n",
    "# model.save('../saved_param/model2')"
   ]
  }
 ],
 "metadata": {
  "kernelspec": {
   "display_name": "Python 3.8.10 ('deep_learning_code')",
   "language": "python",
   "name": "python3"
  },
  "language_info": {
   "codemirror_mode": {
    "name": "ipython",
    "version": 3
   },
   "file_extension": ".py",
   "mimetype": "text/x-python",
   "name": "python",
   "nbconvert_exporter": "python",
   "pygments_lexer": "ipython3",
   "version": "3.8.10"
  },
  "orig_nbformat": 4,
  "vscode": {
   "interpreter": {
    "hash": "94ae5b382a51005fca8da01575be2d2af1d447d51e335e66e884b29c6c326d4f"
   }
  }
 },
 "nbformat": 4,
 "nbformat_minor": 2
}
