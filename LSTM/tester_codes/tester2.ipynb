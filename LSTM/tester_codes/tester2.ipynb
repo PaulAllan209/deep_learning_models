{
 "cells": [
  {
   "cell_type": "code",
   "execution_count": 1,
   "metadata": {},
   "outputs": [],
   "source": [
    "# from keras.models import Model\n",
    "# from keras.layers import Input, LSTM\n",
    "# from keras.layers import LSTM\n",
    "# from numpy import array\n",
    "import tensorflow as tf\n",
    "import numpy as np"
   ]
  },
  {
   "cell_type": "code",
   "execution_count": 2,
   "metadata": {},
   "outputs": [
    {
     "name": "stdout",
     "output_type": "stream",
     "text": [
      "1/1 [==============================] - 1s 561ms/step\n",
      "[array([[-0.07213721]], dtype=float32), array([[-0.07213721]], dtype=float32), array([[-0.1585154]], dtype=float32)]\n"
     ]
    }
   ],
   "source": [
    "# define model\n",
    "inputs1 = tf.keras.layers.Input(shape=(3, 1))\n",
    "lstm1, state_h, state_c = tf.keras.layers.LSTM(1, return_state=True)(inputs1)\n",
    "model = tf.keras.models.Model(inputs=inputs1, outputs=[lstm1, state_h, state_c])\n",
    "# define input data\n",
    "data = np.array([0.1, 0.2, 0.3]).reshape((1,3,1))\n",
    "# make and show prediction\n",
    "print(model.predict(data))"
   ]
  },
  {
   "cell_type": "code",
   "execution_count": 3,
   "metadata": {},
   "outputs": [
    {
     "data": {
      "text/plain": [
       "[<tf.Variable 'lstm/lstm_cell/kernel:0' shape=(1, 4) dtype=float32, numpy=\n",
       " array([[ 0.67609894,  0.966764  , -0.6084736 , -0.6098552 ]],\n",
       "       dtype=float32)>,\n",
       " <tf.Variable 'lstm/lstm_cell/recurrent_kernel:0' shape=(1, 4) dtype=float32, numpy=\n",
       " array([[-0.4943285 ,  0.6291633 , -0.3968252 , -0.44980264]],\n",
       "       dtype=float32)>,\n",
       " <tf.Variable 'lstm/lstm_cell/bias:0' shape=(4,) dtype=float32, numpy=array([0., 1., 0., 0.], dtype=float32)>]"
      ]
     },
     "execution_count": 3,
     "metadata": {},
     "output_type": "execute_result"
    }
   ],
   "source": [
    "model.layers[1].trainable_weights"
   ]
  },
  {
   "cell_type": "code",
   "execution_count": 4,
   "metadata": {},
   "outputs": [],
   "source": [
    "# example inputs\n",
    "inputs = tf.convert_to_tensor(np.random.rand(3, 4), dtype='float32')  # 3 timesteps, 4 features\n",
    "h_c = [tf.zeros((1,2)),  tf.zeros((1,2))]  # must initialize hidden/cell state for lstm cell\n",
    "h_c = tf.convert_to_tensor(h_c, dtype='float32')\n",
    "lstm = tf.keras.layers.LSTMCell(2)\n",
    "\n",
    "# example of how you accumulate cell state over repeated calls to LSTMCell\n",
    "inputs = tf.unstack(inputs, axis=0)\n",
    "c_states = []\n",
    "for cur_inputs in inputs:\n",
    "    out, h_c = lstm(tf.expand_dims(cur_inputs, axis=0), h_c)\n",
    "    h, c = h_c\n",
    "    c_states.append(c)"
   ]
  },
  {
   "cell_type": "code",
   "execution_count": 5,
   "metadata": {},
   "outputs": [
    {
     "data": {
      "text/plain": [
       "[<tf.Tensor: shape=(4,), dtype=float32, numpy=array([0.7180736 , 0.48780382, 0.04530875, 0.47551927], dtype=float32)>,\n",
       " <tf.Tensor: shape=(4,), dtype=float32, numpy=array([0.25782806, 0.83554184, 0.5481133 , 0.31035987], dtype=float32)>,\n",
       " <tf.Tensor: shape=(4,), dtype=float32, numpy=array([0.26304522, 0.6458942 , 0.33818477, 0.96949106], dtype=float32)>]"
      ]
     },
     "execution_count": 5,
     "metadata": {},
     "output_type": "execute_result"
    }
   ],
   "source": [
    "inputs"
   ]
  },
  {
   "cell_type": "code",
   "execution_count": 6,
   "metadata": {},
   "outputs": [
    {
     "data": {
      "text/plain": [
       "[<tf.Tensor: shape=(1, 2), dtype=float32, numpy=array([[-0.07483758, -0.10022224]], dtype=float32)>,\n",
       " <tf.Tensor: shape=(1, 2), dtype=float32, numpy=array([[ 0.03573794, -0.09314883]], dtype=float32)>,\n",
       " <tf.Tensor: shape=(1, 2), dtype=float32, numpy=array([[0.27337018, 0.01560613]], dtype=float32)>]"
      ]
     },
     "execution_count": 6,
     "metadata": {},
     "output_type": "execute_result"
    }
   ],
   "source": [
    "c_states"
   ]
  },
  {
   "cell_type": "code",
   "execution_count": 7,
   "metadata": {},
   "outputs": [
    {
     "data": {
      "text/plain": [
       "[<tf.Tensor: shape=(1, 2), dtype=float32, numpy=array([[0.12335735, 0.00852051]], dtype=float32)>,\n",
       " <tf.Tensor: shape=(1, 2), dtype=float32, numpy=array([[0.27337018, 0.01560613]], dtype=float32)>]"
      ]
     },
     "execution_count": 7,
     "metadata": {},
     "output_type": "execute_result"
    }
   ],
   "source": [
    "h_c"
   ]
  },
  {
   "cell_type": "code",
   "execution_count": 8,
   "metadata": {},
   "outputs": [
    {
     "data": {
      "text/plain": [
       "<tf.Tensor: shape=(1, 2), dtype=float32, numpy=array([[0.12335735, 0.00852051]], dtype=float32)>"
      ]
     },
     "execution_count": 8,
     "metadata": {},
     "output_type": "execute_result"
    }
   ],
   "source": [
    "out"
   ]
  },
  {
   "cell_type": "code",
   "execution_count": 9,
   "metadata": {},
   "outputs": [
    {
     "data": {
      "text/plain": [
       "[<tf.Variable 'lstm_cell_1/kernel:0' shape=(4, 8) dtype=float32, numpy=\n",
       " array([[-0.4129961 , -0.23077962, -0.4612519 , -0.4777711 , -0.6693022 ,\n",
       "         -0.20505589,  0.22649378,  0.44638318],\n",
       "        [ 0.6177483 ,  0.43389827,  0.20113486,  0.6652555 ,  0.02240342,\n",
       "         -0.46221572,  0.49044484, -0.57461375],\n",
       "        [ 0.08268219, -0.40224227,  0.16182536,  0.10629606,  0.2234919 ,\n",
       "          0.5602791 , -0.04792315, -0.6079809 ],\n",
       "        [-0.24933231,  0.26024413, -0.46070164,  0.03598028,  0.6305291 ,\n",
       "          0.33388525, -0.51943195,  0.68575984]], dtype=float32)>,\n",
       " <tf.Variable 'lstm_cell_1/recurrent_kernel:0' shape=(2, 8) dtype=float32, numpy=\n",
       " array([[-0.24514997, -0.05457464,  0.50400734,  0.29810792,  0.28932017,\n",
       "         -0.22981718,  0.63234675, -0.24009763],\n",
       "        [ 0.48811132, -0.26110968, -0.01321633, -0.4047885 , -0.02559751,\n",
       "          0.01856179,  0.5617469 ,  0.46149912]], dtype=float32)>,\n",
       " <tf.Variable 'lstm_cell_1/bias:0' shape=(8,) dtype=float32, numpy=array([0., 0., 1., 1., 0., 0., 0., 0.], dtype=float32)>]"
      ]
     },
     "execution_count": 9,
     "metadata": {},
     "output_type": "execute_result"
    }
   ],
   "source": [
    "lstm.weights"
   ]
  }
 ],
 "metadata": {
  "kernelspec": {
   "display_name": "Python 3.8.10 ('deep_learning_code')",
   "language": "python",
   "name": "python3"
  },
  "language_info": {
   "codemirror_mode": {
    "name": "ipython",
    "version": 3
   },
   "file_extension": ".py",
   "mimetype": "text/x-python",
   "name": "python",
   "nbconvert_exporter": "python",
   "pygments_lexer": "ipython3",
   "version": "3.8.10"
  },
  "orig_nbformat": 4,
  "vscode": {
   "interpreter": {
    "hash": "94ae5b382a51005fca8da01575be2d2af1d447d51e335e66e884b29c6c326d4f"
   }
  }
 },
 "nbformat": 4,
 "nbformat_minor": 2
}
