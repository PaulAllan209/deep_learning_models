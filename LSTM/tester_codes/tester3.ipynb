{
 "cells": [
  {
   "cell_type": "code",
   "execution_count": 1,
   "metadata": {},
   "outputs": [],
   "source": [
    "import numpy as np\n",
    "import tensorflow as tf\n",
    "import pandas as pd\n",
    "from matplotlib import pyplot as plt\n",
    "from sklearn.preprocessing import StandardScaler, MinMaxScaler\n",
    "import seaborn as sns\n",
    "#from datetime import datetime"
   ]
  },
  {
   "cell_type": "code",
   "execution_count": 2,
   "metadata": {},
   "outputs": [],
   "source": [
    "df = pd.read_csv('../datas/train_passengers_copy.csv')\n",
    "#Variables for training\n",
    "cols = list(df)[1:3]\n",
    "df_for_training = df[cols].astype(float)"
   ]
  },
  {
   "cell_type": "code",
   "execution_count": 3,
   "metadata": {},
   "outputs": [],
   "source": [
    "#LSTM uses sigmoid and tanh that are sensitive to magnitude so values need to be normalized\n",
    "# normalize the dataset\n",
    "scaler = MinMaxScaler()\n",
    "scaler.fit(df_for_training)\n",
    "df_for_training_scaled = scaler.transform(df_for_training)"
   ]
  },
  {
   "cell_type": "code",
   "execution_count": 4,
   "metadata": {},
   "outputs": [],
   "source": [
    "#As required for LSTM networks, we require to reshape an input data into n_samples x timesteps x n_features. \n",
    "#In this example, the n_features is 5. We will make timesteps = 14 (past days data used for training). \n",
    "\n",
    "#Empty lists to be populated using formatted training data\n",
    "trainX = []\n",
    "trainY = []\n",
    "\n",
    "n_future = 1   # Number of days we want to look into the future based on the past days.\n",
    "n_past = 3  # Number of past days we want to use to predict the future."
   ]
  },
  {
   "cell_type": "code",
   "execution_count": 5,
   "metadata": {},
   "outputs": [
    {
     "name": "stdout",
     "output_type": "stream",
     "text": [
      "trainX shape == (141, 3, 2).\n",
      "trainY shape == (141, 1).\n"
     ]
    }
   ],
   "source": [
    "#Reformat input data into a shape: (n_samples x timesteps x n_features)\n",
    "#In my example, my df_for_training_scaled has a shape (12823, 5)\n",
    "#12823 refers to the number of data points and 5 refers to the columns (multi-variables).\n",
    "for i in range(n_past, len(df_for_training_scaled) - n_future +1):\n",
    "    trainX.append(df_for_training_scaled[i - n_past:i, 0:df_for_training.shape[1]])\n",
    "    trainY.append(df_for_training_scaled[i + n_future - 1:i + n_future, 0])\n",
    "\n",
    "trainX, trainY = np.array(trainX), np.array(trainY)\n",
    "\n",
    "print('trainX shape == {}.'.format(trainX.shape))\n",
    "print('trainY shape == {}.'.format(trainY.shape))"
   ]
  },
  {
   "cell_type": "code",
   "execution_count": 6,
   "metadata": {},
   "outputs": [
    {
     "name": "stdout",
     "output_type": "stream",
     "text": [
      "Model: \"sequential\"\n",
      "_________________________________________________________________\n",
      " Layer (type)                Output Shape              Param #   \n",
      "=================================================================\n",
      " lstm (LSTM)                 (None, 3, 3)              72        \n",
      "                                                                 \n",
      " dense (Dense)               (None, 3, 1)              4         \n",
      "                                                                 \n",
      "=================================================================\n",
      "Total params: 76\n",
      "Trainable params: 76\n",
      "Non-trainable params: 0\n",
      "_________________________________________________________________\n"
     ]
    }
   ],
   "source": [
    "model = tf.keras.Sequential()\n",
    "model.add(tf.keras.layers.LSTM(3, input_shape=(trainX.shape[1], trainX.shape[2]), return_sequences=True))\n",
    "model.add(tf.keras.layers.Dense(1))\n",
    "model.compile(optimizer='adam', loss='mse')\n",
    "model.summary()"
   ]
  },
  {
   "cell_type": "code",
   "execution_count": 7,
   "metadata": {},
   "outputs": [
    {
     "name": "stdout",
     "output_type": "stream",
     "text": [
      "Epoch 1/100\n",
      "8/8 [==============================] - 4s 139ms/step - loss: 0.1731 - val_loss: 0.5358\n",
      "Epoch 2/100\n",
      "8/8 [==============================] - 0s 7ms/step - loss: 0.1582 - val_loss: 0.5032\n",
      "Epoch 3/100\n",
      "8/8 [==============================] - 0s 7ms/step - loss: 0.1442 - val_loss: 0.4719\n",
      "Epoch 4/100\n",
      "8/8 [==============================] - 0s 10ms/step - loss: 0.1312 - val_loss: 0.4419\n",
      "Epoch 5/100\n",
      "8/8 [==============================] - 0s 11ms/step - loss: 0.1192 - val_loss: 0.4134\n",
      "Epoch 6/100\n",
      "8/8 [==============================] - 0s 7ms/step - loss: 0.1082 - val_loss: 0.3862\n",
      "Epoch 7/100\n",
      "8/8 [==============================] - 0s 9ms/step - loss: 0.0975 - val_loss: 0.3613\n",
      "Epoch 8/100\n",
      "8/8 [==============================] - 0s 8ms/step - loss: 0.0889 - val_loss: 0.3367\n",
      "Epoch 9/100\n",
      "8/8 [==============================] - 0s 7ms/step - loss: 0.0802 - val_loss: 0.3145\n",
      "Epoch 10/100\n",
      "8/8 [==============================] - 0s 7ms/step - loss: 0.0728 - val_loss: 0.2936\n",
      "Epoch 11/100\n",
      "8/8 [==============================] - 0s 7ms/step - loss: 0.0663 - val_loss: 0.2738\n",
      "Epoch 12/100\n",
      "8/8 [==============================] - 0s 8ms/step - loss: 0.0603 - val_loss: 0.2560\n",
      "Epoch 13/100\n",
      "8/8 [==============================] - 0s 7ms/step - loss: 0.0553 - val_loss: 0.2394\n",
      "Epoch 14/100\n",
      "8/8 [==============================] - 0s 9ms/step - loss: 0.0509 - val_loss: 0.2243\n",
      "Epoch 15/100\n",
      "8/8 [==============================] - 0s 9ms/step - loss: 0.0474 - val_loss: 0.2100\n",
      "Epoch 16/100\n",
      "8/8 [==============================] - 0s 7ms/step - loss: 0.0442 - val_loss: 0.1975\n",
      "Epoch 17/100\n",
      "8/8 [==============================] - 0s 7ms/step - loss: 0.0417 - val_loss: 0.1860\n",
      "Epoch 18/100\n",
      "8/8 [==============================] - 0s 7ms/step - loss: 0.0396 - val_loss: 0.1762\n",
      "Epoch 19/100\n",
      "8/8 [==============================] - 0s 7ms/step - loss: 0.0381 - val_loss: 0.1673\n",
      "Epoch 20/100\n",
      "8/8 [==============================] - 0s 7ms/step - loss: 0.0369 - val_loss: 0.1594\n",
      "Epoch 21/100\n",
      "8/8 [==============================] - 0s 6ms/step - loss: 0.0359 - val_loss: 0.1525\n",
      "Epoch 22/100\n",
      "8/8 [==============================] - 0s 7ms/step - loss: 0.0350 - val_loss: 0.1471\n",
      "Epoch 23/100\n",
      "8/8 [==============================] - 0s 7ms/step - loss: 0.0345 - val_loss: 0.1418\n",
      "Epoch 24/100\n",
      "8/8 [==============================] - 0s 7ms/step - loss: 0.0339 - val_loss: 0.1380\n",
      "Epoch 25/100\n",
      "8/8 [==============================] - 0s 6ms/step - loss: 0.0335 - val_loss: 0.1345\n",
      "Epoch 26/100\n",
      "8/8 [==============================] - 0s 6ms/step - loss: 0.0332 - val_loss: 0.1309\n",
      "Epoch 27/100\n",
      "8/8 [==============================] - 0s 7ms/step - loss: 0.0328 - val_loss: 0.1284\n",
      "Epoch 28/100\n",
      "8/8 [==============================] - 0s 6ms/step - loss: 0.0324 - val_loss: 0.1264\n",
      "Epoch 29/100\n",
      "8/8 [==============================] - 0s 7ms/step - loss: 0.0322 - val_loss: 0.1239\n",
      "Epoch 30/100\n",
      "8/8 [==============================] - 0s 7ms/step - loss: 0.0318 - val_loss: 0.1226\n",
      "Epoch 31/100\n",
      "8/8 [==============================] - 0s 6ms/step - loss: 0.0315 - val_loss: 0.1205\n",
      "Epoch 32/100\n",
      "8/8 [==============================] - 0s 7ms/step - loss: 0.0312 - val_loss: 0.1192\n",
      "Epoch 33/100\n",
      "8/8 [==============================] - 0s 6ms/step - loss: 0.0309 - val_loss: 0.1182\n",
      "Epoch 34/100\n",
      "8/8 [==============================] - 0s 7ms/step - loss: 0.0306 - val_loss: 0.1164\n",
      "Epoch 35/100\n",
      "8/8 [==============================] - 0s 7ms/step - loss: 0.0303 - val_loss: 0.1147\n",
      "Epoch 36/100\n",
      "8/8 [==============================] - 0s 20ms/step - loss: 0.0300 - val_loss: 0.1134\n",
      "Epoch 37/100\n",
      "8/8 [==============================] - 0s 10ms/step - loss: 0.0297 - val_loss: 0.1116\n",
      "Epoch 38/100\n",
      "8/8 [==============================] - 0s 7ms/step - loss: 0.0294 - val_loss: 0.1102\n",
      "Epoch 39/100\n",
      "8/8 [==============================] - 0s 8ms/step - loss: 0.0291 - val_loss: 0.1091\n",
      "Epoch 40/100\n",
      "8/8 [==============================] - 0s 8ms/step - loss: 0.0289 - val_loss: 0.1078\n",
      "Epoch 41/100\n",
      "8/8 [==============================] - 0s 14ms/step - loss: 0.0286 - val_loss: 0.1068\n",
      "Epoch 42/100\n",
      "8/8 [==============================] - 0s 8ms/step - loss: 0.0283 - val_loss: 0.1056\n",
      "Epoch 43/100\n",
      "8/8 [==============================] - 0s 8ms/step - loss: 0.0280 - val_loss: 0.1038\n",
      "Epoch 44/100\n",
      "8/8 [==============================] - 0s 16ms/step - loss: 0.0277 - val_loss: 0.1031\n",
      "Epoch 45/100\n",
      "8/8 [==============================] - 0s 9ms/step - loss: 0.0274 - val_loss: 0.1011\n",
      "Epoch 46/100\n",
      "8/8 [==============================] - 0s 12ms/step - loss: 0.0271 - val_loss: 0.0997\n",
      "Epoch 47/100\n",
      "8/8 [==============================] - 0s 10ms/step - loss: 0.0268 - val_loss: 0.0986\n",
      "Epoch 48/100\n",
      "8/8 [==============================] - 0s 8ms/step - loss: 0.0265 - val_loss: 0.0977\n",
      "Epoch 49/100\n",
      "8/8 [==============================] - 0s 8ms/step - loss: 0.0263 - val_loss: 0.0966\n",
      "Epoch 50/100\n",
      "8/8 [==============================] - 0s 9ms/step - loss: 0.0260 - val_loss: 0.0955\n",
      "Epoch 51/100\n",
      "8/8 [==============================] - 0s 10ms/step - loss: 0.0257 - val_loss: 0.0942\n",
      "Epoch 52/100\n",
      "8/8 [==============================] - 0s 8ms/step - loss: 0.0254 - val_loss: 0.0937\n",
      "Epoch 53/100\n",
      "8/8 [==============================] - 0s 9ms/step - loss: 0.0251 - val_loss: 0.0927\n",
      "Epoch 54/100\n",
      "8/8 [==============================] - 0s 8ms/step - loss: 0.0248 - val_loss: 0.0917\n",
      "Epoch 55/100\n",
      "8/8 [==============================] - 0s 25ms/step - loss: 0.0245 - val_loss: 0.0899\n",
      "Epoch 56/100\n",
      "8/8 [==============================] - 0s 13ms/step - loss: 0.0242 - val_loss: 0.0885\n",
      "Epoch 57/100\n",
      "8/8 [==============================] - 0s 13ms/step - loss: 0.0240 - val_loss: 0.0872\n",
      "Epoch 58/100\n",
      "8/8 [==============================] - 0s 17ms/step - loss: 0.0237 - val_loss: 0.0859\n",
      "Epoch 59/100\n",
      "8/8 [==============================] - 0s 12ms/step - loss: 0.0234 - val_loss: 0.0851\n",
      "Epoch 60/100\n",
      "8/8 [==============================] - 0s 11ms/step - loss: 0.0231 - val_loss: 0.0835\n",
      "Epoch 61/100\n",
      "8/8 [==============================] - 0s 20ms/step - loss: 0.0228 - val_loss: 0.0822\n",
      "Epoch 62/100\n",
      "8/8 [==============================] - 0s 19ms/step - loss: 0.0225 - val_loss: 0.0816\n",
      "Epoch 63/100\n",
      "8/8 [==============================] - 0s 18ms/step - loss: 0.0223 - val_loss: 0.0803\n",
      "Epoch 64/100\n",
      "8/8 [==============================] - 0s 12ms/step - loss: 0.0220 - val_loss: 0.0791\n",
      "Epoch 65/100\n",
      "8/8 [==============================] - 0s 14ms/step - loss: 0.0217 - val_loss: 0.0781\n",
      "Epoch 66/100\n",
      "8/8 [==============================] - 0s 11ms/step - loss: 0.0214 - val_loss: 0.0769\n",
      "Epoch 67/100\n",
      "8/8 [==============================] - 0s 10ms/step - loss: 0.0212 - val_loss: 0.0757\n",
      "Epoch 68/100\n",
      "8/8 [==============================] - 0s 14ms/step - loss: 0.0209 - val_loss: 0.0745\n",
      "Epoch 69/100\n",
      "8/8 [==============================] - 0s 12ms/step - loss: 0.0206 - val_loss: 0.0736\n",
      "Epoch 70/100\n",
      "8/8 [==============================] - 0s 11ms/step - loss: 0.0204 - val_loss: 0.0729\n",
      "Epoch 71/100\n",
      "8/8 [==============================] - 0s 9ms/step - loss: 0.0201 - val_loss: 0.0712\n",
      "Epoch 72/100\n",
      "8/8 [==============================] - 0s 10ms/step - loss: 0.0198 - val_loss: 0.0702\n",
      "Epoch 73/100\n",
      "8/8 [==============================] - 0s 19ms/step - loss: 0.0196 - val_loss: 0.0692\n",
      "Epoch 74/100\n",
      "8/8 [==============================] - 0s 9ms/step - loss: 0.0193 - val_loss: 0.0682\n",
      "Epoch 75/100\n",
      "8/8 [==============================] - 0s 9ms/step - loss: 0.0191 - val_loss: 0.0674\n",
      "Epoch 76/100\n",
      "8/8 [==============================] - 0s 11ms/step - loss: 0.0189 - val_loss: 0.0661\n",
      "Epoch 77/100\n",
      "8/8 [==============================] - 0s 28ms/step - loss: 0.0186 - val_loss: 0.0654\n",
      "Epoch 78/100\n",
      "8/8 [==============================] - 0s 11ms/step - loss: 0.0184 - val_loss: 0.0643\n",
      "Epoch 79/100\n",
      "8/8 [==============================] - 0s 10ms/step - loss: 0.0182 - val_loss: 0.0635\n",
      "Epoch 80/100\n",
      "8/8 [==============================] - 0s 10ms/step - loss: 0.0180 - val_loss: 0.0626\n",
      "Epoch 81/100\n",
      "8/8 [==============================] - 0s 13ms/step - loss: 0.0177 - val_loss: 0.0617\n",
      "Epoch 82/100\n",
      "8/8 [==============================] - 0s 9ms/step - loss: 0.0175 - val_loss: 0.0610\n",
      "Epoch 83/100\n",
      "8/8 [==============================] - 0s 8ms/step - loss: 0.0173 - val_loss: 0.0600\n",
      "Epoch 84/100\n",
      "8/8 [==============================] - 0s 9ms/step - loss: 0.0171 - val_loss: 0.0590\n",
      "Epoch 85/100\n",
      "8/8 [==============================] - 0s 12ms/step - loss: 0.0169 - val_loss: 0.0584\n",
      "Epoch 86/100\n",
      "8/8 [==============================] - 0s 8ms/step - loss: 0.0167 - val_loss: 0.0574\n",
      "Epoch 87/100\n",
      "8/8 [==============================] - 0s 9ms/step - loss: 0.0166 - val_loss: 0.0567\n",
      "Epoch 88/100\n",
      "8/8 [==============================] - 0s 29ms/step - loss: 0.0164 - val_loss: 0.0559\n",
      "Epoch 89/100\n",
      "8/8 [==============================] - 0s 66ms/step - loss: 0.0162 - val_loss: 0.0551\n",
      "Epoch 90/100\n",
      "8/8 [==============================] - 0s 11ms/step - loss: 0.0160 - val_loss: 0.0544\n",
      "Epoch 91/100\n",
      "8/8 [==============================] - 0s 10ms/step - loss: 0.0159 - val_loss: 0.0536\n",
      "Epoch 92/100\n",
      "8/8 [==============================] - 0s 12ms/step - loss: 0.0157 - val_loss: 0.0531\n",
      "Epoch 93/100\n",
      "8/8 [==============================] - 0s 14ms/step - loss: 0.0155 - val_loss: 0.0525\n",
      "Epoch 94/100\n",
      "8/8 [==============================] - 0s 17ms/step - loss: 0.0154 - val_loss: 0.0518\n",
      "Epoch 95/100\n",
      "8/8 [==============================] - 0s 10ms/step - loss: 0.0152 - val_loss: 0.0508\n",
      "Epoch 96/100\n",
      "8/8 [==============================] - 0s 11ms/step - loss: 0.0151 - val_loss: 0.0500\n",
      "Epoch 97/100\n",
      "8/8 [==============================] - 0s 14ms/step - loss: 0.0149 - val_loss: 0.0498\n",
      "Epoch 98/100\n",
      "8/8 [==============================] - 0s 27ms/step - loss: 0.0148 - val_loss: 0.0493\n",
      "Epoch 99/100\n",
      "8/8 [==============================] - 0s 20ms/step - loss: 0.0147 - val_loss: 0.0487\n",
      "Epoch 100/100\n",
      "8/8 [==============================] - 0s 25ms/step - loss: 0.0146 - val_loss: 0.0481\n"
     ]
    },
    {
     "data": {
      "text/plain": [
       "<keras.callbacks.History at 0x23e89299eb0>"
      ]
     },
     "execution_count": 7,
     "metadata": {},
     "output_type": "execute_result"
    }
   ],
   "source": [
    "model.fit(trainX, trainY, epochs=100, batch_size=16, validation_split=0.1, verbose=1)"
   ]
  },
  {
   "cell_type": "code",
   "execution_count": 8,
   "metadata": {},
   "outputs": [],
   "source": [
    "# model.save('../saved_param/model3')\n"
   ]
  },
  {
   "cell_type": "code",
   "execution_count": 9,
   "metadata": {},
   "outputs": [],
   "source": [
    "load_model = tf.keras.models.load_model(\"../saved_param/model3\")\n"
   ]
  },
  {
   "cell_type": "code",
   "execution_count": 10,
   "metadata": {},
   "outputs": [
    {
     "name": "stdout",
     "output_type": "stream",
     "text": [
      "1/1 [==============================] - 1s 1s/step\n"
     ]
    },
    {
     "data": {
      "text/plain": [
       "array([[[0.25702322],\n",
       "        [0.29458588],\n",
       "        [0.30806884]]], dtype=float32)"
      ]
     },
     "execution_count": 10,
     "metadata": {},
     "output_type": "execute_result"
    }
   ],
   "source": [
    "load_model.predict(np.array([trainX[1]]))"
   ]
  },
  {
   "cell_type": "code",
   "execution_count": 11,
   "metadata": {},
   "outputs": [
    {
     "data": {
      "text/plain": [
       "array([[0.01544402, 0.8       ],\n",
       "       [0.02702703, 0.8       ],\n",
       "       [0.05405405, 0.6       ]])"
      ]
     },
     "execution_count": 11,
     "metadata": {},
     "output_type": "execute_result"
    }
   ],
   "source": [
    "trainX[0]"
   ]
  },
  {
   "cell_type": "code",
   "execution_count": 12,
   "metadata": {},
   "outputs": [
    {
     "data": {
      "text/plain": [
       "[<tf.Variable 'dense_3/kernel:0' shape=(3, 1) dtype=float32, numpy=\n",
       " array([[-0.42233184],\n",
       "        [ 0.3689297 ],\n",
       "        [-0.3131978 ]], dtype=float32)>,\n",
       " <tf.Variable 'dense_3/bias:0' shape=(1,) dtype=float32, numpy=array([0.16121146], dtype=float32)>]"
      ]
     },
     "execution_count": 12,
     "metadata": {},
     "output_type": "execute_result"
    }
   ],
   "source": [
    "load_model.layers[1].trainable_weights"
   ]
  },
  {
   "cell_type": "code",
   "execution_count": 13,
   "metadata": {},
   "outputs": [],
   "source": [
    "W = load_model.layers[0].get_weights()[0]\n",
    "U = load_model.layers[0].get_weights()[1]\n",
    "b = load_model.layers[0].get_weights()[2]\n",
    "\n",
    "W_i = W[:, :3]\n",
    "W_f = W[:, 3: 3 * 2]\n",
    "W_c = W[:, 3 * 2: 3 * 3]\n",
    "W_o = W[:, 3 * 3:]\n",
    "\n",
    "U_i = U[:, :3]\n",
    "U_f = U[:, 3: 3 * 2]\n",
    "U_c = U[:, 3 * 2: 3 * 3]\n",
    "U_o = U[:, 3 * 3:]\n",
    "\n",
    "b_i = b[:3]\n",
    "b_f = b[3: 3 * 2]\n",
    "b_c = b[3 * 2: 3 * 3]\n",
    "b_o = b[3 * 3:]"
   ]
  },
  {
   "cell_type": "code",
   "execution_count": 14,
   "metadata": {},
   "outputs": [
    {
     "name": "stdout",
     "output_type": "stream",
     "text": [
      "[[0.35566998 1.4086083  0.7215156 ]\n",
      " [0.07884085 0.36922053 0.37740988]]\n",
      "[[-0.11504292 -0.11362755 -0.3031734 ]\n",
      " [-0.9906854  -0.23550205 -0.26340267]\n",
      " [ 0.41692337  0.14517373  0.17972483]]\n",
      "[-0.16188446  0.01601927  0.21576458]\n"
     ]
    }
   ],
   "source": [
    "print(W_i)\n",
    "print(U_i)\n",
    "print(b_i)\n"
   ]
  },
  {
   "cell_type": "code",
   "execution_count": 15,
   "metadata": {},
   "outputs": [
    {
     "name": "stdout",
     "output_type": "stream",
     "text": [
      "[[-0.2295345   1.1335361   0.6621852 ]\n",
      " [ 0.25860325  0.1935192  -0.30316782]]\n",
      "[[ 0.47441137  0.14656599  0.08143887]\n",
      " [-0.45709613 -0.31698605 -0.01739863]\n",
      " [-0.11745029  0.11935769  0.39047447]]\n",
      "[0.87010735 0.74171436 0.87208897]\n"
     ]
    }
   ],
   "source": [
    "print(W_f)\n",
    "print(U_f)\n",
    "print(b_f)\n"
   ]
  },
  {
   "cell_type": "code",
   "execution_count": 16,
   "metadata": {},
   "outputs": [
    {
     "name": "stdout",
     "output_type": "stream",
     "text": [
      "[[ 0.2736181   0.3080478  -0.20788296]\n",
      " [ 0.42466313  0.403848   -0.5905587 ]]\n",
      "[[-0.50114334  0.09257057 -0.19414988]\n",
      " [-0.14574955  0.11357803  0.19666846]\n",
      " [-0.42942908  0.6167454  -0.29570833]]\n",
      "[-0.08857886  0.19663301 -0.25165126]\n"
     ]
    }
   ],
   "source": [
    "print(W_c)\n",
    "print(U_c)\n",
    "print(b_c)\n"
   ]
  },
  {
   "cell_type": "code",
   "execution_count": 17,
   "metadata": {},
   "outputs": [
    {
     "name": "stdout",
     "output_type": "stream",
     "text": [
      "[[-0.74122727  0.46246535  0.4048134 ]\n",
      " [ 0.33073547 -0.1942196   0.03327436]]\n",
      "[[-0.23198946  0.16087262  0.59650433]\n",
      " [ 0.1249354   0.44169274  0.20607027]\n",
      " [ 0.48772782 -0.2447438   0.36812192]]\n",
      "[-0.17079982  0.29212683  0.26432905]\n"
     ]
    }
   ],
   "source": [
    "print(W_o)\n",
    "print(U_o)\n",
    "print(b_o)\n"
   ]
  },
  {
   "cell_type": "code",
   "execution_count": 18,
   "metadata": {},
   "outputs": [],
   "source": [
    "# test_model = tf.keras.Sequential()\n",
    "# test_model.add(tf.keras.layers.LSTM(3, input_shape=(trainX.shape[1], trainX.shape[2]), return_sequences=True))"
   ]
  },
  {
   "cell_type": "code",
   "execution_count": 19,
   "metadata": {},
   "outputs": [],
   "source": [
    "# test_model.save('../saved_param/test_model1')"
   ]
  },
  {
   "cell_type": "code",
   "execution_count": 20,
   "metadata": {},
   "outputs": [
    {
     "name": "stdout",
     "output_type": "stream",
     "text": [
      "WARNING:tensorflow:No training configuration found in save file, so the model was *not* compiled. Compile it manually.\n"
     ]
    }
   ],
   "source": [
    "test_model = tf.keras.models.load_model(\"../saved_param/test_model1/\")"
   ]
  },
  {
   "cell_type": "code",
   "execution_count": 21,
   "metadata": {},
   "outputs": [
    {
     "data": {
      "text/plain": [
       "array([[0.02702703, 0.8       ],\n",
       "       [0.05405405, 0.6       ],\n",
       "       [0.04826255, 0.6       ]])"
      ]
     },
     "execution_count": 21,
     "metadata": {},
     "output_type": "execute_result"
    }
   ],
   "source": [
    "trainX[1]"
   ]
  },
  {
   "cell_type": "code",
   "execution_count": 22,
   "metadata": {},
   "outputs": [
    {
     "name": "stdout",
     "output_type": "stream",
     "text": [
      "1/1 [==============================] - 1s 1s/step\n"
     ]
    },
    {
     "data": {
      "text/plain": [
       "array([[[-0.00752289,  0.04412096, -0.0144942 ],\n",
       "        [-0.01602702,  0.06958452, -0.02986364],\n",
       "        [-0.01964575,  0.08610261, -0.04356184]]], dtype=float32)"
      ]
     },
     "execution_count": 22,
     "metadata": {},
     "output_type": "execute_result"
    }
   ],
   "source": [
    "test_model.predict(np.array([trainX[1]]))"
   ]
  },
  {
   "cell_type": "code",
   "execution_count": 23,
   "metadata": {},
   "outputs": [
    {
     "data": {
      "text/plain": [
       "[<tf.Variable 'lstm_6/lstm_cell_7/kernel:0' shape=(2, 12) dtype=float32, numpy=\n",
       " array([[ 0.28213406,  0.40180504,  0.10323656,  0.49266553,  0.59737396,\n",
       "         -0.27416527, -0.6140406 , -0.22036755, -0.36234343,  0.11618108,\n",
       "         -0.40446782, -0.05731392],\n",
       "        [ 0.09265673, -0.55035496, -0.0250091 ,  0.10383672, -0.03438932,\n",
       "          0.44054282, -0.02767795,  0.35591948, -0.076204  , -0.6510474 ,\n",
       "         -0.4240626 , -0.43181473]], dtype=float32)>,\n",
       " <tf.Variable 'lstm_6/lstm_cell_7/recurrent_kernel:0' shape=(3, 12) dtype=float32, numpy=\n",
       " array([[-0.11440527, -0.09116384,  0.10766367,  0.41458526,  0.13482785,\n",
       "          0.02425341, -0.14716567,  0.09884649, -0.07846723, -0.2423919 ,\n",
       "          0.7091871 ,  0.42080373],\n",
       "        [-0.09434418,  0.6440063 , -0.16892694,  0.09986253, -0.29395232,\n",
       "         -0.35163632, -0.18524946,  0.01135916, -0.2985677 ,  0.35922354,\n",
       "          0.23562133, -0.1401508 ],\n",
       "        [ 0.12497412,  0.13285607,  0.29592115, -0.17216626, -0.05532025,\n",
       "         -0.09946106, -0.70869935,  0.2606318 ,  0.50013614, -0.11444857,\n",
       "         -0.03364325, -0.04491055]], dtype=float32)>,\n",
       " <tf.Variable 'lstm_6/lstm_cell_7/bias:0' shape=(12,) dtype=float32, numpy=array([0., 0., 0., 1., 1., 1., 0., 0., 0., 0., 0., 0.], dtype=float32)>]"
      ]
     },
     "execution_count": 23,
     "metadata": {},
     "output_type": "execute_result"
    }
   ],
   "source": [
    "test_model.layers[0].trainable_weights"
   ]
  },
  {
   "cell_type": "code",
   "execution_count": 24,
   "metadata": {},
   "outputs": [],
   "source": [
    "# wrapped_test_model = tf.keras.Sequential()\n",
    "# wrapped_test_model.add(test_model)\n",
    "# wrapped_test_model.add(tf.keras.layers.Dense(1))"
   ]
  },
  {
   "cell_type": "code",
   "execution_count": 25,
   "metadata": {},
   "outputs": [
    {
     "ename": "NameError",
     "evalue": "name 'wrapped_test_model' is not defined",
     "output_type": "error",
     "traceback": [
      "\u001b[1;31m---------------------------------------------------------------------------\u001b[0m",
      "\u001b[1;31mNameError\u001b[0m                                 Traceback (most recent call last)",
      "Cell \u001b[1;32mIn [25], line 1\u001b[0m\n\u001b[1;32m----> 1\u001b[0m \u001b[43mwrapped_test_model\u001b[49m\u001b[38;5;241m.\u001b[39mlayers[\u001b[38;5;241m1\u001b[39m]\u001b[38;5;241m.\u001b[39mget_weights()\n",
      "\u001b[1;31mNameError\u001b[0m: name 'wrapped_test_model' is not defined"
     ]
    }
   ],
   "source": [
    "wrapped_test_model.layers[1].get_weights()"
   ]
  },
  {
   "cell_type": "code",
   "execution_count": null,
   "metadata": {},
   "outputs": [
    {
     "name": "stdout",
     "output_type": "stream",
     "text": [
      "1/1 [==============================] - 0s 39ms/step\n"
     ]
    },
    {
     "data": {
      "text/plain": [
       "array([[[-0.03293667],\n",
       "        [-0.04143049],\n",
       "        [-0.04421219]]], dtype=float32)"
      ]
     },
     "execution_count": 39,
     "metadata": {},
     "output_type": "execute_result"
    }
   ],
   "source": [
    "wrapped_test_model.predict(np.array([trainX[1]]))"
   ]
  }
 ],
 "metadata": {
  "kernelspec": {
   "display_name": "Python 3.8.10 ('deep_learning_code')",
   "language": "python",
   "name": "python3"
  },
  "language_info": {
   "codemirror_mode": {
    "name": "ipython",
    "version": 3
   },
   "file_extension": ".py",
   "mimetype": "text/x-python",
   "name": "python",
   "nbconvert_exporter": "python",
   "pygments_lexer": "ipython3",
   "version": "3.8.10"
  },
  "orig_nbformat": 4,
  "vscode": {
   "interpreter": {
    "hash": "94ae5b382a51005fca8da01575be2d2af1d447d51e335e66e884b29c6c326d4f"
   }
  }
 },
 "nbformat": 4,
 "nbformat_minor": 2
}
