{
 "cells": [
  {
   "cell_type": "markdown",
   "metadata": {},
   "source": [
    "<h1>This code classifies the number in a 25 x 25 pixel image</h1>"
   ]
  },
  {
   "cell_type": "code",
   "execution_count": 23,
   "metadata": {},
   "outputs": [],
   "source": [
    "# Python version used 3.8.10\n",
    "\n",
    "\n",
    "import os\n",
    "import tensorflow as tf \n",
    "from tensorflow import keras\n",
    "from tensorflow.keras.callbacks import CSVLogger # CSV logger logs the value of the loss each epochs. This is useful if you want to save the values of loss in a .csv file\n",
    "import pandas as pd # Pandas for reading and manipulating the data\n",
    "import numpy as np # Numpy for handling matrices of data\n",
    "from tensor_model_maker import DNN_model # This is a class that is personally customized to make it more easy to create a tensorflow DNN model\n",
    "import matplotlib.pyplot as plt # Matplotlib for showing the data"
   ]
  },
  {
   "cell_type": "code",
   "execution_count": 24,
   "metadata": {},
   "outputs": [],
   "source": [
    "# Loading the mnist dataset but this format of dataset will not be used because the data needs to be preprocessed\n",
    "# The reason for putting this code in is because if you want to see the raw data without being preprocessed\n",
    "# The preprocessing part will be done later\n",
    "mnist = tf.keras.datasets.mnist\n",
    "\n",
    "(x_train, y_train), (x_test, y_test) = mnist.load_data()\n",
    "x_train, x_test = x_train / 255.0, x_test / 255.0"
   ]
  },
  {
   "cell_type": "code",
   "execution_count": 25,
   "metadata": {},
   "outputs": [
    {
     "data": {
      "image/png": "[encoded data removed]",
      "text/plain": [
       "<Figure size 640x480 with 1 Axes>"
      ]
     },
     "metadata": {},
     "output_type": "display_data"
    }
   ],
   "source": [
    "plt.figure()\n",
    "plt.imshow(x_test[10], cmap=plt.cm.binary)\n",
    "plt.show()"
   ]
  },
  {
   "cell_type": "code",
   "execution_count": null,
   "metadata": {},
   "outputs": [],
   "source": [
    "# This is the preprocessing part of the data\n",
    "# As you can see this part takes in the (28, 28) size of the data and convert it into (784, 1) size matrix\n",
    "# Run this code if you still dont have the data saved in the computer\n",
    "\n",
    "\n",
    "# Numpy arrays are turned into lists first and then appended on the list are the flattened values of the images\n",
    "# After that the whole list is then reshaped into a numpy array\n",
    "# This is a lot more faster at the cost of memory\n",
    "\n",
    "# x_train_flattened = []\n",
    "# for image in x_train:\n",
    "#     flattened  = np.ndarray.ravel(image, order='C')\n",
    "#     x_train_flattened.append(list(flattened))\n",
    "# x_train_flattened = np.reshape(x_train_flattened, newshape=(np.shape(x_train)[0], np.shape(x_train)[1]**2))\n",
    "\n",
    "# x_test_flattened = []\n",
    "# for image in x_test:\n",
    "#     flattened  = np.ndarray.ravel(image, order='C')\n",
    "#     x_test_flattened.append(list(flattened))\n",
    "# x_test_flattened = np.reshape(x_test_flattened, newshape=(np.shape(x_test)[0], np.shape(x_test)[1]**2))\n",
    "\n",
    "# np.save(\"../datas/mnist_number_dataset/x_train_flattened.npy\", x_train_flattened)\n",
    "# np.save(\"../datas/mnist_number_dataset/y_train_flattened.npy\", y_train)\n",
    "\n",
    "# np.save(\"../datas/mnist_number_dataset/x_test_flattened.npy\", x_test_flattened)\n",
    "# np.save(\"../datas/mnist_number_dataset/y_test_flattened.npy\", y_test)"
   ]
  },
  {
   "cell_type": "code",
   "execution_count": null,
   "metadata": {},
   "outputs": [],
   "source": [
    "# Loading the preprocessed data\n",
    "x_train_flattened = np.load(\"../datas/mnist_number_dataset/x_train_flattened.npy\")\n",
    "y_train_flattened = np.load(\"../datas/mnist_number_dataset/y_train_flattened.npy\")\n",
    "x_test_flattened = np.load(\"../datas/mnist_number_dataset/x_test_flattened.npy\")\n",
    "y_test_flattened = np.load(\"../datas/mnist_number_dataset/y_test_flattened.npy\")"
   ]
  },
  {
   "cell_type": "code",
   "execution_count": null,
   "metadata": {},
   "outputs": [],
   "source": [
    "# Creating the deep neural network model if you still have not created one\n",
    "DNN_model.make_model(x_train_flattened, y_train_flattened, num_of_inputs=784, num_of_outputs=10, num_of_hidden_layers=5, epochs=50, batch_size=1000, save_freq=1500, num_of_neurons_of_hidden_layers=128)"
   ]
  },
  {
   "cell_type": "code",
   "execution_count": null,
   "metadata": {},
   "outputs": [],
   "source": [
    "# Creating a class object for loading and training of the model\n",
    "load_num_model = DNN_model()"
   ]
  },
  {
   "cell_type": "code",
   "execution_count": null,
   "metadata": {},
   "outputs": [],
   "source": [
    "# Loading the newly created model or you can load another model that you pretrained\n",
    "load_num_model.load_model(\"../trained_models\\model1\")"
   ]
  },
  {
   "cell_type": "code",
   "execution_count": null,
   "metadata": {},
   "outputs": [],
   "source": [
    "# Training the loaded model\n",
    "load_num_model.train_model(x_train_flattened, y_train_flattened, epochs=100, batch_size=100, save_freq=2000, save_param_excel=True, validation_data=(x_test_flattened, y_test_flattened))"
   ]
  },
  {
   "cell_type": "code",
   "execution_count": null,
   "metadata": {},
   "outputs": [],
   "source": [
    "# Loading a specific epoch model for testing\n",
    "model_test = tf.keras.models.load_model(r\"../trained_models\\model2\\saved_per_train\\train1\\Epoch50_loss0.12\")"
   ]
  },
  {
   "cell_type": "code",
   "execution_count": null,
   "metadata": {},
   "outputs": [],
   "source": [
    "# Using that loaded specific epoch model and data are inputted for prediction\n",
    "model_test.predict(x_test_flattened)[10]"
   ]
  }
 ],
 "metadata": {
  "kernelspec": {
   "display_name": "Python 3.8.10 ('deep_learning_code')",
   "language": "python",
   "name": "python3"
  },
  "language_info": {
   "codemirror_mode": {
    "name": "ipython",
    "version": 3
   },
   "file_extension": ".py",
   "mimetype": "text/x-python",
   "name": "python",
   "nbconvert_exporter": "python",
   "pygments_lexer": "ipython3",
   "version": "3.8.10"
  },
  "orig_nbformat": 4,
  "vscode": {
   "interpreter": {
    "hash": "94ae5b382a51005fca8da01575be2d2af1d447d51e335e66e884b29c6c326d4f"
   }
  }
 },
 "nbformat": 4,
 "nbformat_minor": 2
}
